{
 "cells": [
  {
   "cell_type": "code",
   "execution_count": 282,
   "id": "24df8acd",
   "metadata": {},
   "outputs": [],
   "source": [
    "import pandas as pd\n",
    "import os"
   ]
  },
  {
   "cell_type": "code",
   "execution_count": 283,
   "id": "1f1993e3",
   "metadata": {},
   "outputs": [],
   "source": [
    "excel = os.listdir(r'dados/')"
   ]
  },
  {
   "cell_type": "code",
   "execution_count": 284,
   "id": "c7e850c3",
   "metadata": {},
   "outputs": [],
   "source": [
    "arquivos_unicificados = []\n",
    "for i, arquivo in enumerate(excel):\n",
    "    df = pd.read_excel(f'dados/{arquivo}')\n",
    "    df.loc[:, 'ciclo'] = f'ciclo {i+1}'\n",
    "    arquivos_unicificados.append(df)\n",
    "\n",
    "arquivos_unicificados = pd.concat(arquivos_unicificados)"
   ]
  },
  {
   "cell_type": "code",
   "execution_count": null,
   "id": "f92de449",
   "metadata": {},
   "outputs": [],
   "source": [
    "arquivos_unicificados = arquivos_unicificados.rename(columns={'Veículo':'veiculo', 'Lote':'lote', 'Empresa':'empresa'})\n",
    "arquivos_unicificados.loc[: ,'data'] = arquivos_unicificados.dt_levantamento.dt.date\n",
    "arquivos_unicificados.loc[:, 'horario'] = arquivos_unicificados.dt_levantamento.dt.time.astype(object)\n",
    "arquivos_unicificados = arquivos_unicificados.drop('dt_levantamento', axis=1)\n",
    "arquivos_unicificados = arquivos_unicificados[['veiculo','data', 'horario','uf','trecho','km','sentido','lote','ciclo']]"
   ]
  },
  {
   "cell_type": "code",
   "execution_count": 286,
   "id": "dd2de053",
   "metadata": {},
   "outputs": [],
   "source": [
    "lista_dfs={}\n",
    "veiculos = arquivos_unicificados.veiculo.unique()\n",
    "sentidos = arquivos_unicificados.sentido.unique()\n",
    "\n",
    "for veiculo in veiculos:\n",
    "    dfs_filtrados = []\n",
    "    for sentido in sentidos:\n",
    "        subset = arquivos_unicificados.loc[(arquivos_unicificados.veiculo == veiculo) \n",
    "                                            & (arquivos_unicificados.sentido == sentido)].copy()\n",
    "        if subset.empty:\n",
    "            pass\n",
    "        else:\n",
    "            subset = subset.sort_values(by=['ciclo','data','horario','uf','trecho','km']).reset_index(drop=True)\n",
    "            dfs_filtrados.append(subset)\n",
    "    if len(dfs_filtrados) == 0:\n",
    "        pass\n",
    "    else:\n",
    "        lista_dfs[veiculo] = dfs_filtrados"
   ]
  },
  {
   "cell_type": "code",
   "execution_count": 287,
   "id": "5d56c1a9",
   "metadata": {},
   "outputs": [],
   "source": [
    "def dist_percorrida (df):\n",
    "    df['distancia_percorrida'] = pd.Series(dtype='float64')\n",
    "    df['motivo'] = pd.Series(dtype='object')\n",
    "    df_index = df.index\n",
    "\n",
    "    for i in df_index:\n",
    "        if i == 0:\n",
    "            df.loc[i,'distancia_percorrida'] = 0\n",
    "            df.loc[i,'motivo'] = 'primeira linha'\n",
    "        elif df.loc[i, 'data'] != df.loc[i-1, 'data']:\n",
    "            df.loc[i,'distancia_percorrida'] = 0\n",
    "            df.loc[i,'motivo'] = 'inicio do dia'\n",
    "        elif df.loc[i, 'km'] <= df.loc[i-1, 'km']:\n",
    "            df.loc[i, 'distancia_percorrida'] = 0\n",
    "            df.loc[i,'motivo'] = 'km menor/igual ao anterior'\n",
    "        else:\n",
    "            df.loc[i, 'distancia_percorrida'] = df.loc[i, 'km'] - df.loc[i-1, 'km']\n",
    "\n",
    "    threshold = 2 * df['distancia_percorrida'].std()\n",
    "    for i in df_index:\n",
    "        if df.loc[i, 'distancia_percorrida'] >=  threshold:\n",
    "            df.loc[i, 'distancia_percorrida'] = 0\n",
    "            df.loc[i,'motivo'] = 'km maior que 2*desv.pad'\n",
    "\n",
    "    return  df"
   ]
  },
  {
   "cell_type": "code",
   "execution_count": 288,
   "id": "6d7d7019",
   "metadata": {},
   "outputs": [],
   "source": [
    "b = []\n",
    "\n",
    "for veiculos in lista_dfs.values():\n",
    "    for df in veiculos:\n",
    "        dist_percorrida(df)\n",
    "        b.append(df)"
   ]
  },
  {
   "cell_type": "code",
   "execution_count": 290,
   "id": "e970ce93",
   "metadata": {},
   "outputs": [],
   "source": [
    "c = pd.concat(b, ignore_index=True)\n",
    "\n",
    "pd.DataFrame(c.groupby(['ciclo', 'lote', 'uf', 'veiculo', 'data'])['distancia_percorrida'].sum() /1000).to_csv('teste.csv', decimal=',')\n"
   ]
  },
  {
   "cell_type": "code",
   "execution_count": 291,
   "id": "1a02d624",
   "metadata": {},
   "outputs": [],
   "source": [
    "pd.concat(b).to_csv('b.csv', decimal=',')"
   ]
  }
 ],
 "metadata": {
  "kernelspec": {
   "display_name": ".venv",
   "language": "python",
   "name": "python3"
  },
  "language_info": {
   "codemirror_mode": {
    "name": "ipython",
    "version": 3
   },
   "file_extension": ".py",
   "mimetype": "text/x-python",
   "name": "python",
   "nbconvert_exporter": "python",
   "pygments_lexer": "ipython3",
   "version": "3.13.0"
  }
 },
 "nbformat": 4,
 "nbformat_minor": 5
}
